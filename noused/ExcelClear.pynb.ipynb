{
 "cells": [
  {
   "cell_type": "code",
   "execution_count": 4,
   "metadata": {},
   "outputs": [],
   "source": [
    "#!pip install pandas\n",
    "#!pip install openpyxl"
   ]
  },
  {
   "cell_type": "code",
   "execution_count": 5,
   "metadata": {},
   "outputs": [],
   "source": [
    "import pandas as pd"
   ]
  },
  {
   "cell_type": "code",
   "execution_count": 6,
   "metadata": {},
   "outputs": [
    {
     "data": {
      "text/html": [
       "<div>\n",
       "<style scoped>\n",
       "    .dataframe tbody tr th:only-of-type {\n",
       "        vertical-align: middle;\n",
       "    }\n",
       "\n",
       "    .dataframe tbody tr th {\n",
       "        vertical-align: top;\n",
       "    }\n",
       "\n",
       "    .dataframe thead th {\n",
       "        text-align: right;\n",
       "    }\n",
       "</style>\n",
       "<table border=\"1\" class=\"dataframe\">\n",
       "  <thead>\n",
       "    <tr style=\"text-align: right;\">\n",
       "      <th></th>\n",
       "      <th>url</th>\n",
       "      <th>pelmorex_id</th>\n",
       "      <th>name</th>\n",
       "      <th>province</th>\n",
       "      <th>coords</th>\n",
       "    </tr>\n",
       "  </thead>\n",
       "  <tbody>\n",
       "    <tr>\n",
       "      <th>0</th>\n",
       "      <td>https://www.eltiempo.es/mallecina.html</td>\n",
       "      <td>ESO1194</td>\n",
       "      <td>Mallecina</td>\n",
       "      <td>Asturias</td>\n",
       "      <td>(43.4486049, -6.2560516)</td>\n",
       "    </tr>\n",
       "    <tr>\n",
       "      <th>1</th>\n",
       "      <td>https://www.eltiempo.es/arcocha.html</td>\n",
       "      <td>ESXX9534</td>\n",
       "      <td>Arcocha</td>\n",
       "      <td>Vizcaya</td>\n",
       "      <td>(43.2616921, -2.9262609)</td>\n",
       "    </tr>\n",
       "    <tr>\n",
       "      <th>2</th>\n",
       "      <td>https://www.eltiempo.es/torrejon.html</td>\n",
       "      <td>ESXX16949</td>\n",
       "      <td>Torrejon</td>\n",
       "      <td>Teruel</td>\n",
       "      <td>(41.1279977, -0.1457861)</td>\n",
       "    </tr>\n",
       "    <tr>\n",
       "      <th>3</th>\n",
       "      <td>https://www.eltiempo.es/pousacarro.html</td>\n",
       "      <td>ESXX11553</td>\n",
       "      <td>Pousacarro</td>\n",
       "      <td>A Coruña</td>\n",
       "      <td>(42.6799704, -8.9830592)</td>\n",
       "    </tr>\n",
       "    <tr>\n",
       "      <th>4</th>\n",
       "      <td>https://www.eltiempo.es/lomo-pelado.html</td>\n",
       "      <td>ESXX12715</td>\n",
       "      <td>Lomo Pelado</td>\n",
       "      <td>Tenerife</td>\n",
       "      <td>(28.4395342, -16.3684563)</td>\n",
       "    </tr>\n",
       "    <tr>\n",
       "      <th>...</th>\n",
       "      <td>...</td>\n",
       "      <td>...</td>\n",
       "      <td>...</td>\n",
       "      <td>...</td>\n",
       "      <td>...</td>\n",
       "    </tr>\n",
       "    <tr>\n",
       "      <th>22075</th>\n",
       "      <td>https://www.eltiempo.es/salmanton.html</td>\n",
       "      <td>ESXX13913</td>\n",
       "      <td>SalmantÃ³n</td>\n",
       "      <td>Alava</td>\n",
       "      <td>(43.0527377, -3.087735)</td>\n",
       "    </tr>\n",
       "    <tr>\n",
       "      <th>22076</th>\n",
       "      <td>https://www.eltiempo.es/aldeaseca-de-armuna.html</td>\n",
       "      <td>ESXX20100</td>\n",
       "      <td>Aldeaseca de ArmuÃ±a</td>\n",
       "      <td>Salamanca</td>\n",
       "      <td>(41.0199908, -5.6714315)</td>\n",
       "    </tr>\n",
       "    <tr>\n",
       "      <th>22077</th>\n",
       "      <td>https://www.eltiempo.es/vegas-de-matute.html</td>\n",
       "      <td>ESXX3400</td>\n",
       "      <td>Vegas de Matute</td>\n",
       "      <td>Segovia</td>\n",
       "      <td>(40.7950056, -4.2777553)</td>\n",
       "    </tr>\n",
       "    <tr>\n",
       "      <th>22078</th>\n",
       "      <td>https://www.eltiempo.es/anzanigo.html</td>\n",
       "      <td>ESXX1041</td>\n",
       "      <td>AnzÃ¡nigo</td>\n",
       "      <td>Huesca</td>\n",
       "      <td>(42.4022125, -0.6500413)</td>\n",
       "    </tr>\n",
       "    <tr>\n",
       "      <th>22079</th>\n",
       "      <td>https://www.eltiempo.es/el-puente-del-arzobisp...</td>\n",
       "      <td>ESXX7628</td>\n",
       "      <td>El Puente del Arzobispo</td>\n",
       "      <td>Toledo</td>\n",
       "      <td>(39.8031703, -5.1718509)</td>\n",
       "    </tr>\n",
       "  </tbody>\n",
       "</table>\n",
       "<p>22080 rows × 5 columns</p>\n",
       "</div>"
      ],
      "text/plain": [
       "                                                     url pelmorex_id  \\\n",
       "0                 https://www.eltiempo.es/mallecina.html     ESO1194   \n",
       "1                   https://www.eltiempo.es/arcocha.html    ESXX9534   \n",
       "2                  https://www.eltiempo.es/torrejon.html   ESXX16949   \n",
       "3                https://www.eltiempo.es/pousacarro.html   ESXX11553   \n",
       "4               https://www.eltiempo.es/lomo-pelado.html   ESXX12715   \n",
       "...                                                  ...         ...   \n",
       "22075             https://www.eltiempo.es/salmanton.html   ESXX13913   \n",
       "22076   https://www.eltiempo.es/aldeaseca-de-armuna.html   ESXX20100   \n",
       "22077       https://www.eltiempo.es/vegas-de-matute.html    ESXX3400   \n",
       "22078              https://www.eltiempo.es/anzanigo.html    ESXX1041   \n",
       "22079  https://www.eltiempo.es/el-puente-del-arzobisp...    ESXX7628   \n",
       "\n",
       "                          name   province                     coords  \n",
       "0                    Mallecina   Asturias   (43.4486049, -6.2560516)  \n",
       "1                      Arcocha    Vizcaya   (43.2616921, -2.9262609)  \n",
       "2                     Torrejon     Teruel   (41.1279977, -0.1457861)  \n",
       "3                   Pousacarro   A Coruña   (42.6799704, -8.9830592)  \n",
       "4                  Lomo Pelado   Tenerife  (28.4395342, -16.3684563)  \n",
       "...                        ...        ...                        ...  \n",
       "22075               SalmantÃ³n      Alava    (43.0527377, -3.087735)  \n",
       "22076     Aldeaseca de ArmuÃ±a  Salamanca   (41.0199908, -5.6714315)  \n",
       "22077          Vegas de Matute    Segovia   (40.7950056, -4.2777553)  \n",
       "22078                AnzÃ¡nigo     Huesca   (42.4022125, -0.6500413)  \n",
       "22079  El Puente del Arzobispo     Toledo   (39.8031703, -5.1718509)  \n",
       "\n",
       "[22080 rows x 5 columns]"
      ]
     },
     "execution_count": 6,
     "metadata": {},
     "output_type": "execute_result"
    }
   ],
   "source": [
    "# Cargar el archivo Excel en un DataFrame\n",
    "file_path = 'town_index.xlsx'  # Reemplaza con la ruta correcta\n",
    "data = pd.read_excel(file_path)\n",
    "data"
   ]
  },
  {
   "cell_type": "code",
   "execution_count": 12,
   "metadata": {},
   "outputs": [
    {
     "name": "stdout",
     "output_type": "stream",
     "text": [
      "province\n",
      "A Coruña        847\n",
      "Alava           324\n",
      "Albacete        361\n",
      "Alicante        358\n",
      "Almeria         347\n",
      "Asturias       1789\n",
      "Avila           395\n",
      "Badajoz         287\n",
      "Baleares        172\n",
      "Barcelona       447\n",
      "Burgos         1128\n",
      "Caceres         318\n",
      "Cadiz           112\n",
      "Castellon       224\n",
      "Ciudad Real     157\n",
      "Corboba         145\n",
      "Cuenca          369\n",
      "Girona          515\n",
      "Granada         451\n",
      "Guadalajara     476\n",
      "Guipuzcoa       677\n",
      "Huelva          206\n",
      "Huesca          726\n",
      "Jaen            384\n",
      "La Rioja        260\n",
      "Las Palmas      207\n",
      "Leon           1296\n",
      "Lleida          395\n",
      "Lugo            909\n",
      "Madrid          322\n",
      "Malaga          159\n",
      "Murcia          489\n",
      "Navarra         657\n",
      "Ourense         506\n",
      "Palencia        434\n",
      "Pontevedra      386\n",
      "Salamanca       583\n",
      "Segovia         359\n",
      "Sevilla         188\n",
      "Soria           484\n",
      "Tarragona       233\n",
      "Tenerife        381\n",
      "Teruel          356\n",
      "Toledo          246\n",
      "Valencia        431\n",
      "Valladolid      284\n",
      "Vizcaya         391\n",
      "Zamora          493\n",
      "Zaragoza        367\n",
      "Name: name, dtype: int64\n"
     ]
    }
   ],
   "source": [
    "# Usar el método groupby para contar pueblos/ciudades por provincia\n",
    "province_counts = data.groupby('province')['name'].count()\n",
    "\n",
    "# Mostrar los resultados\n",
    "print(province_counts)\n"
   ]
  },
  {
   "cell_type": "code",
   "execution_count": 10,
   "metadata": {},
   "outputs": [
    {
     "name": "stdout",
     "output_type": "stream",
     "text": [
      "Provincia más poblada: Asturias con 1789 pueblos/ciudades\n",
      "Provincia menos poblada: Cadiz con 112 pueblos/ciudades\n"
     ]
    }
   ],
   "source": [
    "# Encontrar la provincia con la mayor y menor cantidad\n",
    "most_populous_province = province_counts.idxmax()\n",
    "least_populous_province = province_counts.idxmin()\n",
    "\n",
    "# Obtener la cantidad correspondiente a la provincia más y menos poblada\n",
    "most_populous_count = province_counts[most_populous_province]\n",
    "least_populous_count = province_counts[least_populous_province]\n",
    "\n",
    "# Mostrar los resultados\n",
    "print(f\"Provincia más poblada: {most_populous_province} con {most_populous_count} pueblos/ciudades\")\n",
    "print(f\"Provincia menos poblada: {least_populous_province} con {least_populous_count} pueblos/ciudades\")"
   ]
  },
  {
   "cell_type": "code",
   "execution_count": 11,
   "metadata": {},
   "outputs": [
    {
     "name": "stdout",
     "output_type": "stream",
     "text": [
      "Media de pueblos/ciudades por provincia: 449.61\n"
     ]
    }
   ],
   "source": [
    "# Calcular la media de pueblos/ciudades por provincia\n",
    "average_province_population = province_counts.mean()\n",
    "\n",
    "# Mostrar el resultado\n",
    "print(f\"Media de pueblos/ciudades por provincia: {average_province_population:.2f}\")"
   ]
  },
  {
   "cell_type": "code",
   "execution_count": 16,
   "metadata": {},
   "outputs": [
    {
     "name": "stdout",
     "output_type": "stream",
     "text": [
      "Se han guardado los datos filtrados en 'new_town_index.xlsx'\n"
     ]
    }
   ],
   "source": [
    "# Crear un DataFrame vacío para almacenar los datos filtrados\n",
    "filtered_data = pd.DataFrame(columns=data.columns)\n",
    "\n",
    "# Iterar a través de cada provincia y seleccionar hasta 400 localidades\n",
    "for province in province_counts.index:\n",
    "    province_data = data[data['province'] == province].head(200)\n",
    "    filtered_data = pd.concat([filtered_data, province_data])\n",
    "\n",
    "# Guardar los datos filtrados en un nuevo archivo Excel\n",
    "new_file_path = 'new_town_index.xlsx'  # Ruta donde deseas guardar el nuevo archivo\n",
    "filtered_data.to_excel(new_file_path, index=False)\n",
    "\n",
    "print(f\"Se han guardado los datos filtrados en '{new_file_path}'\")"
   ]
  }
 ],
 "metadata": {
  "kernelspec": {
   "display_name": "Python 3",
   "language": "python",
   "name": "python3"
  },
  "language_info": {
   "codemirror_mode": {
    "name": "ipython",
    "version": 3
   },
   "file_extension": ".py",
   "mimetype": "text/x-python",
   "name": "python",
   "nbconvert_exporter": "python",
   "pygments_lexer": "ipython3",
   "version": "3.11.4"
  },
  "orig_nbformat": 4
 },
 "nbformat": 4,
 "nbformat_minor": 2
}
